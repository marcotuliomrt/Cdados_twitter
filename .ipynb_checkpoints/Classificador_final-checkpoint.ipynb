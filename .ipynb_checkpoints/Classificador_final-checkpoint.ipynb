{
 "cells": [
  {
   "cell_type": "markdown",
   "metadata": {},
   "source": [
    "# Projeto 1 - Ciência dos Dados"
   ]
  },
  {
   "cell_type": "markdown",
   "metadata": {},
   "source": [
    "Nome: _Marco Tulio Masselli Rainho Teixeira_\n",
    "\n",
    "Nome: _Talissa Gonçalves Albertini_"
   ]
  },
  {
   "cell_type": "markdown",
   "metadata": {},
   "source": [
    "___\n",
    "## Classificador automático de sentimento\n"
   ]
  },
  {
   "cell_type": "markdown",
   "metadata": {},
   "source": [
    "Este classificador automático de sentimento tem o objetivo de promover uma otimização no processo de interpretação de feed back de qualquer produto no mercado, identificando características que os usuários aprovam ou reprovam, e no ambiente do Twitter, selecionando comentários que tenham uma maior probabilidade de serem relevantes à equipe que os analizará."
   ]
  },
  {
   "cell_type": "markdown",
   "metadata": {},
   "source": [
    "### 1. Preparação do ambiente do Jupyter"
   ]
  },
  {
   "cell_type": "code",
   "execution_count": 1,
   "metadata": {},
   "outputs": [
    {
     "name": "stderr",
     "output_type": "stream",
     "text": [
      "[nltk_data] Downloading package rslp to C:\\Users\\Marco\n",
      "[nltk_data]     Tulio\\AppData\\Roaming\\nltk_data...\n",
      "[nltk_data]   Package rslp is already up-to-date!\n"
     ]
    },
    {
     "data": {
      "text/plain": [
       "True"
      ]
     },
     "execution_count": 1,
     "metadata": {},
     "output_type": "execute_result"
    }
   ],
   "source": [
    "%matplotlib inline\n",
    "import pandas as pd\n",
    "import matplotlib.pyplot as plt\n",
    "import numpy as np\n",
    "import os\n",
    "import re \n",
    "from string import punctuation\n",
    "import nltk \n",
    "from nltk.stem import RSLPStemmer\n",
    "nltk.download('rslp')"
   ]
  },
  {
   "cell_type": "code",
   "execution_count": 2,
   "metadata": {
    "scrolled": false
   },
   "outputs": [
    {
     "name": "stdout",
     "output_type": "stream",
     "text": [
      "Esperamos trabalhar no diretório\n",
      "C:\\Users\\Marco Tulio\\Documents\\My stuff\\Classes\\CDados\\projeto_1\\edicao_final_cdados\n"
     ]
    }
   ],
   "source": [
    "print('Esperamos trabalhar no diretório')\n",
    "print(os.getcwd())"
   ]
  },
  {
   "cell_type": "markdown",
   "metadata": {},
   "source": [
    "### 2. Carregando a base de dados com os tweets "
   ]
  },
  {
   "cell_type": "code",
   "execution_count": 3,
   "metadata": {},
   "outputs": [
    {
     "name": "stdout",
     "output_type": "stream",
     "text": [
      "   Relevancia                                        Treinamento\n",
      "0           0  @assig93 você tem o smartwatch da xiaomi??? o ...\n",
      "1           1  rt @camillinhasr: to quase trocando meu iphone...\n",
      "2           0  @matxsans @clicker82806245 @caiorodrigonas1 @s...\n",
      "3           1  galera do xiaomi mi a3 garena acabou de atuali...\n",
      "4           1  @dustoccox @xiaomi ta bugado? o meu nem chegou...\n",
      "   Relevancia                                              Teste\n",
      "0           0  preciso achar alguém que venda capinha de celu...\n",
      "1           0  @tessaro2000 xiaomi é brabo ja bem com coringa...\n",
      "2           1  rt @canaltech: moto elétrica da xiaomi chega a...\n",
      "3           1  rt @_lluscas: que raiva da marcela, trocou um ...\n",
      "4           1  eu sou mt influencer, geral na sala usando o f...\n"
     ]
    }
   ],
   "source": [
    "xls = pd.ExcelFile('xiaomi.xlsx')\n",
    "df1 = pd.read_excel(xls, 'Treinamento')\n",
    "df2 = pd.read_excel(xls, 'Teste')\n",
    "\n",
    "print(df1.head())\n",
    "print(df2.head())"
   ]
  },
  {
   "cell_type": "markdown",
   "metadata": {},
   "source": [
    "___\n",
    "### 3. Tratamento do banco de dados de treinamento"
   ]
  },
  {
   "cell_type": "markdown",
   "metadata": {},
   "source": [
    "#### 3.1 Remoção de pontuação e uniformização de minúsculas"
   ]
  },
  {
   "cell_type": "code",
   "execution_count": 4,
   "metadata": {},
   "outputs": [
    {
     "name": "stdout",
     "output_type": "stream",
     "text": [
      "   Relevancia                                        Treinamento\n",
      "0           0  assig93 você tem o smartwatch da xiaomi o que ...\n",
      "1           1  rt camillinhasr to quase trocando meu iphone p...\n",
      "2           0  matxsans clicker82806245 caiorodrigonas1 scipi...\n",
      "3           1  galera do xiaomi mi a3 garena acabou de atuali...\n",
      "4           1  dustoccox xiaomi ta bugado o meu nem chegou a att\n",
      "5           1  depois que  troquei de celular nem vontade de ...\n",
      "6           1  se eu soubesse eu tinha pedido pro ronaldinho ...\n",
      "7           0  liked on youtube a maior dúvida redmi note 8 v...\n",
      "8           0  retrato da minha única amiga xiaomi inface htt...\n",
      "9           0  cupom smartphones xiaomi mi 9  red note 8  mar...\n",
      "   Relevancia                                              Teste\n",
      "0           0  preciso achar alguém que venda capinha de celu...\n",
      "1           0  tessaro2000 xiaomi é brabo ja bem com coringa ...\n",
      "2           1  rt canaltech moto elétrica da xiaomi chega a 1...\n",
      "3           1  rt lluscas que raiva da marcela trocou um ipho...\n",
      "4           1  eu sou mt influencer geral na sala usando o fo...\n",
      "5           0  matheusneivaa nubank um novo xiaomi como bela ...\n",
      "6           0  rt redetv mãe diz que filho foi morto por tran...\n",
      "7           0                          xiaomi é o krlh morô cara\n",
      "8           0                        betteraba comprou um xiaomi\n",
      "9           0  roubou o cargo do chenle ceo da xiaomi agora o...\n"
     ]
    }
   ],
   "source": [
    "def  Cleanup(df, text_column):\n",
    "    df[text_column] = df[text_column].str.lower()\n",
    "    df[text_column] = df[text_column].str.replace(rf'[{punctuation}]', '')\n",
    "    return df\n",
    "\n",
    "print(Cleanup(df1, 'Treinamento').head(10))\n",
    "print(Cleanup(df2, 'Teste').head(10))"
   ]
  },
  {
   "cell_type": "markdown",
   "metadata": {},
   "source": [
    "#### 3.2 Divisão por relevância"
   ]
  },
  {
   "cell_type": "code",
   "execution_count": 5,
   "metadata": {},
   "outputs": [
    {
     "name": "stdout",
     "output_type": "stream",
     "text": [
      "['rt camillinhasr to quase trocando meu iphone por um xiaomi', 'galera do xiaomi mi a3 garena acabou de atualizar as opções de sombras e alto fps 😍😍😍 httpstcowmxnoqictq', 'dustoccox xiaomi ta bugado o meu nem chegou a att', 'depois que  troquei de celular nem vontade de postar history eu tenho não comprem xiaomi', 'se eu soubesse eu tinha pedido pro ronaldinho gaúcho trazer um xiaomi mi 8 pra mim', 'maluco\\n\\nquem usa os mi a da xiaomi e tá esperando android 10 se fudeu lindão\\n\\nsimplesmente todos os android one da xiaomi estão cagados', 'queria trocar meu xiaomi em um iphone 7 ou 8 plus  por que  a câmera do meu no insta e em nenhum app e boa só e boa fora desses apps iphone xiaomi', 'elpphin eu vi que o xiaomi tem uma qualidade mto mto boa também mas também pensei nisso que vc citou em relação ao iphone', 'meu próximo celular ou vai ser xiaomi ou samsung ou pasmem iphone', 'queria tanto um xiaomi 🥺']\n"
     ]
    }
   ],
   "source": [
    "relevant_comments = df1[df1.Relevancia == 1] \n",
    "relevant_comments_column = relevant_comments['Treinamento']\n",
    "relevant_comments_list = relevant_comments_column.values.tolist()\n",
    "print(relevant_comments_list[0:10])\n",
    "\n",
    "irrelevant_comments = df1[df1.Relevancia == 0]\n",
    "irrelevant_comments_column = irrelevant_comments['Treinamento']\n",
    "irrelevant_comments_list = irrelevant_comments_column.values.tolist()\n",
    "#print(irrelevant_comments_list)"
   ]
  },
  {
   "cell_type": "markdown",
   "metadata": {},
   "source": [
    "#### 3.3 Separação de palávras "
   ]
  },
  {
   "cell_type": "code",
   "execution_count": 6,
   "metadata": {},
   "outputs": [
    {
     "name": "stdout",
     "output_type": "stream",
     "text": [
      "['rt', 'camillinhasr', 'to', 'quase', 'trocando', 'meu', 'iphone', 'por', 'um', 'xiaomi', 'galera', 'do', 'xiaomi', 'mi', 'a3', 'garena', 'acabou', 'de', 'atualizar', 'as', 'opções', 'de', 'sombras', 'e', 'alto', 'fps', '😍😍😍', 'httpstcowmxnoqictq', 'dustoccox', 'xiaomi']\n"
     ]
    }
   ],
   "source": [
    "relevant_words_raw = [word for comment in relevant_comments_list for word in comment.split()]\n",
    "print(relevant_words_raw[0:30])\n",
    "\n",
    "irrelevant_words_raw = [word for comment in irrelevant_comments_list for word in comment.split()]\n",
    "#print(irrelevant_words_raw)"
   ]
  },
  {
   "cell_type": "markdown",
   "metadata": {},
   "source": [
    "#### 3.4 Remoção de stopwords e stemming\n"
   ]
  },
  {
   "cell_type": "code",
   "execution_count": 7,
   "metadata": {},
   "outputs": [],
   "source": [
    "def RemoveStopWords(list_of_words):\n",
    "    stopwords = nltk.corpus.stopwords.words('portuguese')\n",
    "    filtered = []\n",
    "    for word in list_of_words:\n",
    "        if word not in stopwords:\n",
    "            filtered.append(word)\n",
    "    return filtered\n",
    "\n",
    "stopwords = nltk.corpus.stopwords.words('portuguese')\n",
    "\n",
    "def Stemming(list_of_words):\n",
    "    stemmer = RSLPStemmer()\n",
    "    filtered = []\n",
    "    for word in list_of_words:\n",
    "        filtered.append(stemmer.stem(word.lower()))\n",
    "    return filtered\n",
    "\n",
    "relevant_words = Stemming(RemoveStopWords(relevant_words_raw))\n",
    "irrelevant_words = Stemming(RemoveStopWords(irrelevant_words_raw))\n",
    "\n",
    "\n",
    "#print(relevant_words)"
   ]
  },
  {
   "cell_type": "markdown",
   "metadata": {},
   "source": [
    "#### 3.5 Cálculo das frequências relativas"
   ]
  },
  {
   "cell_type": "code",
   "execution_count": 8,
   "metadata": {},
   "outputs": [
    {
     "name": "stdout",
     "output_type": "stream",
     "text": [
      "xiaom    0.100820\n",
      "pra      0.018852\n",
      "compr    0.018852\n",
      "celul    0.018852\n",
      "iphon    0.012295\n",
      "dtype: float64\n"
     ]
    }
   ],
   "source": [
    "relevant_words_serie = pd.Series(relevant_words)\n",
    "relevant_words_relative = relevant_words_serie.value_counts(True)\n",
    "print(relevant_words_relative.head())\n",
    "\n",
    "irrelevant_words_serie = pd.Series(irrelevant_words)\n",
    "irrelevant_words_relative = irrelevant_words_serie.value_counts(True)\n",
    "#print(irrelevant_words_relative.head())"
   ]
  },
  {
   "cell_type": "markdown",
   "metadata": {},
   "source": [
    "#### 3.6 Espaço amostral"
   ]
  },
  {
   "cell_type": "code",
   "execution_count": 9,
   "metadata": {},
   "outputs": [
    {
     "name": "stdout",
     "output_type": "stream",
     "text": [
      "xiaom    0.087658\n",
      "compr    0.015538\n",
      "celul    0.011727\n",
      "mi       0.011727\n",
      "pra      0.011434\n",
      "dtype: float64\n"
     ]
    }
   ],
   "source": [
    "# Lista de todas as palávras\n",
    "all_words = relevant_words + irrelevant_words\n",
    "all_words[0:10]\n",
    "\n",
    "# Frequências relativas do total de palávras\n",
    "all_words_serie = pd.Series(all_words)\n",
    "all_words_relative = all_words_serie.value_counts(True)\n",
    "print(all_words_relative.head())"
   ]
  },
  {
   "cell_type": "markdown",
   "metadata": {},
   "source": [
    "#### 3.7 Descrição das probabilidades"
   ]
  },
  {
   "cell_type": "markdown",
   "metadata": {},
   "source": [
    "#### Eventos\n",
    "\n",
    "* R: Comentário relevante\n",
    "* Rc: Comentário irrelevante\n",
    "* C: Comentário\n",
    "\n",
    "#### Probabilidades\n",
    "\n",
    "* P_R = Probabilidade do comentário ser relevante\n",
    "* P_Rc = Probabilidade do comentario ser irrelevante\n",
    "* P_C = Probabilidade do comentário ocorrer na lingua portugueasa = propabilidade de cada palavra ocorrer na lingua portuguesa, multiplicadas entre si\n",
    "* P_C_dado_R = Probabilidade do comentário ocorrer dado que o é relevante = probabilidade de cada palavra ocorrer dado que o comentário é relevante, multiplicados entre si\n",
    "* P_C_dado_Rc = Probabilidade do comentário ocorrer dado que é irrelevante = probabilidade de cada palavra ocorrer dado que o comentário é irrelevante, multiplicados entre si\n",
    "* P_R_dado_C = Probabilidade do cometário ser relevante dado o comentário\n",
    "* P_Rc_dado_C =Probabilidade do cometário ser irrelevante dado o comentário"
   ]
  },
  {
   "cell_type": "markdown",
   "metadata": {},
   "source": [
    "___\n",
    "### 4. Funções auxiliares"
   ]
  },
  {
   "cell_type": "markdown",
   "metadata": {},
   "source": [
    "#### 4.1 Função para a suavização de Laplace "
   ]
  },
  {
   "cell_type": "code",
   "execution_count": 10,
   "metadata": {},
   "outputs": [],
   "source": [
    "def Laplace(N_words_X, N_dif_words_X, N_dif_words_Xc):\n",
    "    correction = 1/(len(N_words_X) + len(N_dif_words_X) + len(N_dif_words_Xc))\n",
    "    return correction"
   ]
  },
  {
   "cell_type": "markdown",
   "metadata": {},
   "source": [
    "#### 4.2 Função multiplicadora"
   ]
  },
  {
   "cell_type": "code",
   "execution_count": 11,
   "metadata": {},
   "outputs": [],
   "source": [
    "def MultiplyList(List) : \n",
    "    result = 1\n",
    "    for x in List: \n",
    "         result = result * x  \n",
    "    return result  "
   ]
  },
  {
   "cell_type": "code",
   "execution_count": 12,
   "metadata": {},
   "outputs": [],
   "source": [
    "df2_range = []\n",
    "for row in df2.index: \n",
    "    df2_range.append(row)\n"
   ]
  },
  {
   "cell_type": "markdown",
   "metadata": {},
   "source": [
    "### 5. Função classificador\n"
   ]
  },
  {
   "cell_type": "code",
   "execution_count": 13,
   "metadata": {},
   "outputs": [],
   "source": [
    "df2['test_result'] = 'NaN'"
   ]
  },
  {
   "cell_type": "code",
   "execution_count": 14,
   "metadata": {},
   "outputs": [],
   "source": [
    "\n",
    "    \n",
    "\n",
    "def Classifier(df):\n",
    "    for i in df2_range:\n",
    "        comment = df2.iloc[i, 1]\n",
    "\n",
    "\n",
    "        # Frequencia das palavras do comentario\n",
    "        comment_words = comment.split()\n",
    "        comment_words_list = Stemming(RemoveStopWords(comment_words))\n",
    "        comment_words_serie = pd.Series(comment_words_list)\n",
    "        comment_words_frequency = comment_words_serie.value_counts()\n",
    "\n",
    "\n",
    "        P_C_dado_R = 1\n",
    "        Ps_C_dado_R = []\n",
    "        for j in range(len(comment_words_list)):\n",
    "            if comment_words_list[j] not in relevant_words:\n",
    "                Ps_C_dado_R.append(Laplace(relevant_words, relevant_words_relative, irrelevant_words_relative))\n",
    "            if comment_words_list[j] == 'xiaomi':\n",
    "                continue\n",
    "            else:\n",
    "                Ps_C_dado_R.append(relevant_words_relative[j])\n",
    "        P_C_dado_R = MultiplyList(Ps_C_dado_R)\n",
    "                \n",
    "\n",
    "\n",
    "        P_C_dado_Rc = 1\n",
    "        Ps_C_dado_Rc = []\n",
    "        for j in range(len(comment_words_list)):\n",
    "            if comment_words_list[j] not in irrelevant_words:\n",
    "                Ps_C_dado_Rc.append(Laplace(irrelevant_words, irrelevant_words_relative, relevant_words_relative))\n",
    "            if comment_words_list[j] == 'xiaomi':\n",
    "                continue\n",
    "            else:\n",
    "                Ps_C_dado_Rc.append(irrelevant_words_relative[j])\n",
    "        P_C_dado_Rc = MultiplyList(Ps_C_dado_Rc)\n",
    "        \n",
    "\n",
    "        P_C = 1\n",
    "        for x in range(len(comment_words_list)):\n",
    "            if comment_words_list[x] not in all_words_relative:\n",
    "                continue\n",
    "            else:\n",
    "                P_C *= all_words_relative[comment_words_list[x]]\n",
    "\n",
    "\n",
    "        P_R = len(relevant_words) / (len(relevant_words) + len(irrelevant_words))\n",
    "\n",
    "        P_Rc = len(irrelevant_words) / (len(relevant_words) + len(irrelevant_words))\n",
    "\n",
    "        P_R_dado_C = P_R * P_C_dado_R\n",
    "\n",
    "        P_Rc_dado_C = P_Rc * P_C_dado_Rc\n",
    "\n",
    "\n",
    "        if P_R_dado_C > P_Rc_dado_C:\n",
    "            result = 1\n",
    "        else:\n",
    "            result = 0\n",
    "\n",
    "        df2.iloc[i, 2] = result\n",
    "    return df"
   ]
  },
  {
   "cell_type": "markdown",
   "metadata": {},
   "source": [
    "___\n",
    "### 6. Verificando a performance do classificador"
   ]
  },
  {
   "cell_type": "markdown",
   "metadata": {},
   "source": [
    "#### 6.1 Teste com o banco de dados Teste "
   ]
  },
  {
   "cell_type": "code",
   "execution_count": 15,
   "metadata": {},
   "outputs": [
    {
     "data": {
      "text/html": [
       "<div>\n",
       "<style scoped>\n",
       "    .dataframe tbody tr th:only-of-type {\n",
       "        vertical-align: middle;\n",
       "    }\n",
       "\n",
       "    .dataframe tbody tr th {\n",
       "        vertical-align: top;\n",
       "    }\n",
       "\n",
       "    .dataframe thead th {\n",
       "        text-align: right;\n",
       "    }\n",
       "</style>\n",
       "<table border=\"1\" class=\"dataframe\">\n",
       "  <thead>\n",
       "    <tr style=\"text-align: right;\">\n",
       "      <th></th>\n",
       "      <th>Relevancia</th>\n",
       "      <th>Teste</th>\n",
       "      <th>test_result</th>\n",
       "    </tr>\n",
       "  </thead>\n",
       "  <tbody>\n",
       "    <tr>\n",
       "      <th>0</th>\n",
       "      <td>0</td>\n",
       "      <td>preciso achar alguém que venda capinha de celu...</td>\n",
       "      <td>0</td>\n",
       "    </tr>\n",
       "    <tr>\n",
       "      <th>1</th>\n",
       "      <td>0</td>\n",
       "      <td>tessaro2000 xiaomi é brabo ja bem com coringa ...</td>\n",
       "      <td>1</td>\n",
       "    </tr>\n",
       "    <tr>\n",
       "      <th>2</th>\n",
       "      <td>1</td>\n",
       "      <td>rt canaltech moto elétrica da xiaomi chega a 1...</td>\n",
       "      <td>0</td>\n",
       "    </tr>\n",
       "    <tr>\n",
       "      <th>3</th>\n",
       "      <td>1</td>\n",
       "      <td>rt lluscas que raiva da marcela trocou um ipho...</td>\n",
       "      <td>0</td>\n",
       "    </tr>\n",
       "    <tr>\n",
       "      <th>4</th>\n",
       "      <td>1</td>\n",
       "      <td>eu sou mt influencer geral na sala usando o fo...</td>\n",
       "      <td>1</td>\n",
       "    </tr>\n",
       "    <tr>\n",
       "      <th>5</th>\n",
       "      <td>0</td>\n",
       "      <td>matheusneivaa nubank um novo xiaomi como bela ...</td>\n",
       "      <td>1</td>\n",
       "    </tr>\n",
       "    <tr>\n",
       "      <th>6</th>\n",
       "      <td>0</td>\n",
       "      <td>rt redetv mãe diz que filho foi morto por tran...</td>\n",
       "      <td>0</td>\n",
       "    </tr>\n",
       "    <tr>\n",
       "      <th>7</th>\n",
       "      <td>0</td>\n",
       "      <td>xiaomi é o krlh morô cara</td>\n",
       "      <td>0</td>\n",
       "    </tr>\n",
       "    <tr>\n",
       "      <th>8</th>\n",
       "      <td>0</td>\n",
       "      <td>betteraba comprou um xiaomi</td>\n",
       "      <td>1</td>\n",
       "    </tr>\n",
       "    <tr>\n",
       "      <th>9</th>\n",
       "      <td>0</td>\n",
       "      <td>roubou o cargo do chenle ceo da xiaomi agora o...</td>\n",
       "      <td>1</td>\n",
       "    </tr>\n",
       "    <tr>\n",
       "      <th>10</th>\n",
       "      <td>0</td>\n",
       "      <td>preenchendo meu vazio existencial de n ter um ...</td>\n",
       "      <td>1</td>\n",
       "    </tr>\n",
       "    <tr>\n",
       "      <th>11</th>\n",
       "      <td>0</td>\n",
       "      <td>joseserra velho safado</td>\n",
       "      <td>1</td>\n",
       "    </tr>\n",
       "    <tr>\n",
       "      <th>12</th>\n",
       "      <td>0</td>\n",
       "      <td>minixmirian só não vale pra quem trabalha com ...</td>\n",
       "      <td>0</td>\n",
       "    </tr>\n",
       "    <tr>\n",
       "      <th>13</th>\n",
       "      <td>0</td>\n",
       "      <td>xiaomi redmi note 9 pro tem possíveis especifi...</td>\n",
       "      <td>0</td>\n",
       "    </tr>\n",
       "    <tr>\n",
       "      <th>14</th>\n",
       "      <td>0</td>\n",
       "      <td>galerinha alguém afim de comprar um xiaomi red...</td>\n",
       "      <td>0</td>\n",
       "    </tr>\n",
       "    <tr>\n",
       "      <th>15</th>\n",
       "      <td>0</td>\n",
       "      <td>cupom smartphones xiaomi mi 9  red note 8  mar...</td>\n",
       "      <td>0</td>\n",
       "    </tr>\n",
       "    <tr>\n",
       "      <th>16</th>\n",
       "      <td>0</td>\n",
       "      <td>essa matéria faria ainda mais sentido se fosse...</td>\n",
       "      <td>1</td>\n",
       "    </tr>\n",
       "    <tr>\n",
       "      <th>17</th>\n",
       "      <td>1</td>\n",
       "      <td>batprugol canon t5i e tenho um xiaomi mi9 que ...</td>\n",
       "      <td>1</td>\n",
       "    </tr>\n",
       "    <tr>\n",
       "      <th>18</th>\n",
       "      <td>0</td>\n",
       "      <td>rt lhcvsx se escreve xiaomi mas se lê zyæœmåy</td>\n",
       "      <td>0</td>\n",
       "    </tr>\n",
       "    <tr>\n",
       "      <th>19</th>\n",
       "      <td>1</td>\n",
       "      <td>sim eu vou comprar uma choppeira da xiaomi</td>\n",
       "      <td>1</td>\n",
       "    </tr>\n",
       "    <tr>\n",
       "      <th>20</th>\n",
       "      <td>0</td>\n",
       "      <td>ovnimoura manipulado as propagandas que aparec...</td>\n",
       "      <td>1</td>\n",
       "    </tr>\n",
       "    <tr>\n",
       "      <th>21</th>\n",
       "      <td>1</td>\n",
       "      <td>tem uma galera por aí perdendo o celular depoi...</td>\n",
       "      <td>1</td>\n",
       "    </tr>\n",
       "    <tr>\n",
       "      <th>22</th>\n",
       "      <td>0</td>\n",
       "      <td>rt pompeukk convenci mais um samsunguer a comp...</td>\n",
       "      <td>1</td>\n",
       "    </tr>\n",
       "    <tr>\n",
       "      <th>23</th>\n",
       "      <td>0</td>\n",
       "      <td>as melhores máquinas de cartão de crédito\\n\\nh...</td>\n",
       "      <td>0</td>\n",
       "    </tr>\n",
       "    <tr>\n",
       "      <th>24</th>\n",
       "      <td>1</td>\n",
       "      <td>rt paulogala moto elétrica da xiaomi chega a 1...</td>\n",
       "      <td>0</td>\n",
       "    </tr>\n",
       "    <tr>\n",
       "      <th>25</th>\n",
       "      <td>0</td>\n",
       "      <td>amariagabe obrigadaaaa agora eu sou testemunha...</td>\n",
       "      <td>0</td>\n",
       "    </tr>\n",
       "    <tr>\n",
       "      <th>26</th>\n",
       "      <td>0</td>\n",
       "      <td>agr que desistir de vez do xiaomi preciso me d...</td>\n",
       "      <td>1</td>\n",
       "    </tr>\n",
       "    <tr>\n",
       "      <th>27</th>\n",
       "      <td>0</td>\n",
       "      <td>sinaeffects xiaomi minha experiência com iphon...</td>\n",
       "      <td>1</td>\n",
       "    </tr>\n",
       "    <tr>\n",
       "      <th>28</th>\n",
       "      <td>1</td>\n",
       "      <td>xiaomi bota apple pra mamar gostoso não tem como</td>\n",
       "      <td>1</td>\n",
       "    </tr>\n",
       "    <tr>\n",
       "      <th>29</th>\n",
       "      <td>0</td>\n",
       "      <td>laraacarvalho a xiaomi deve me patrocinar pq e...</td>\n",
       "      <td>0</td>\n",
       "    </tr>\n",
       "    <tr>\n",
       "      <th>...</th>\n",
       "      <td>...</td>\n",
       "      <td>...</td>\n",
       "      <td>...</td>\n",
       "    </tr>\n",
       "    <tr>\n",
       "      <th>145</th>\n",
       "      <td>0</td>\n",
       "      <td>tv xiaomi 55 4k uhd a preciazo o httpstco9azyk...</td>\n",
       "      <td>0</td>\n",
       "    </tr>\n",
       "    <tr>\n",
       "      <th>146</th>\n",
       "      <td>1</td>\n",
       "      <td>jcotta31 mano sem ser na zoeira o software da ...</td>\n",
       "      <td>1</td>\n",
       "    </tr>\n",
       "    <tr>\n",
       "      <th>147</th>\n",
       "      <td>0</td>\n",
       "      <td>xiaomi nunca te pedi nada lança  logo a star c...</td>\n",
       "      <td>1</td>\n",
       "    </tr>\n",
       "    <tr>\n",
       "      <th>148</th>\n",
       "      <td>1</td>\n",
       "      <td>minha melhor aquisição do ano passado definiti...</td>\n",
       "      <td>1</td>\n",
       "    </tr>\n",
       "    <tr>\n",
       "      <th>149</th>\n",
       "      <td>0</td>\n",
       "      <td>serasi eu compro um xiaomi</td>\n",
       "      <td>1</td>\n",
       "    </tr>\n",
       "    <tr>\n",
       "      <th>150</th>\n",
       "      <td>1</td>\n",
       "      <td>acejaems xiaomer tem o melhor custo benefício ...</td>\n",
       "      <td>0</td>\n",
       "    </tr>\n",
       "    <tr>\n",
       "      <th>151</th>\n",
       "      <td>0</td>\n",
       "      <td>jeffjd eh ruim hein trabalhar pra comprar um x...</td>\n",
       "      <td>0</td>\n",
       "    </tr>\n",
       "    <tr>\n",
       "      <th>152</th>\n",
       "      <td>0</td>\n",
       "      <td>a actualização v11020qdlmixm integra ainda o m...</td>\n",
       "      <td>0</td>\n",
       "    </tr>\n",
       "    <tr>\n",
       "      <th>153</th>\n",
       "      <td>1</td>\n",
       "      <td>xiaomi airdots é muito brabo</td>\n",
       "      <td>1</td>\n",
       "    </tr>\n",
       "    <tr>\n",
       "      <th>154</th>\n",
       "      <td>0</td>\n",
       "      <td>power bank 10000mah qc30 xiaomi 2i plm09zm ban...</td>\n",
       "      <td>0</td>\n",
       "    </tr>\n",
       "    <tr>\n",
       "      <th>155</th>\n",
       "      <td>0</td>\n",
       "      <td>mas entre câmeras dessa faixa de valor bem lon...</td>\n",
       "      <td>0</td>\n",
       "    </tr>\n",
       "    <tr>\n",
       "      <th>156</th>\n",
       "      <td>1</td>\n",
       "      <td>eu gosto de gente assim que escolhe xiaomi e t...</td>\n",
       "      <td>1</td>\n",
       "    </tr>\n",
       "    <tr>\n",
       "      <th>157</th>\n",
       "      <td>0</td>\n",
       "      <td>rt daudts2 alguém sabe se vale a pena comprar ...</td>\n",
       "      <td>0</td>\n",
       "    </tr>\n",
       "    <tr>\n",
       "      <th>158</th>\n",
       "      <td>1</td>\n",
       "      <td>todo dia descobro algo novo nesse celular por ...</td>\n",
       "      <td>0</td>\n",
       "    </tr>\n",
       "    <tr>\n",
       "      <th>159</th>\n",
       "      <td>0</td>\n",
       "      <td>rt hatakebjj vai me sobrar uma grana e não sei...</td>\n",
       "      <td>0</td>\n",
       "    </tr>\n",
       "    <tr>\n",
       "      <th>160</th>\n",
       "      <td>1</td>\n",
       "      <td>xiaomi e otimo  mais nao me adaptei  voltei pr...</td>\n",
       "      <td>1</td>\n",
       "    </tr>\n",
       "    <tr>\n",
       "      <th>161</th>\n",
       "      <td>0</td>\n",
       "      <td>ok xiaomi me devolve meu mi a2 lite\\nmia2litea...</td>\n",
       "      <td>1</td>\n",
       "    </tr>\n",
       "    <tr>\n",
       "      <th>162</th>\n",
       "      <td>0</td>\n",
       "      <td>precisamos chegar a 500 tweets mas tem só 480 ...</td>\n",
       "      <td>0</td>\n",
       "    </tr>\n",
       "    <tr>\n",
       "      <th>163</th>\n",
       "      <td>0</td>\n",
       "      <td>savcavalcante provavelmente vai ter q esperar ...</td>\n",
       "      <td>0</td>\n",
       "    </tr>\n",
       "    <tr>\n",
       "      <th>164</th>\n",
       "      <td>0</td>\n",
       "      <td>foto tirada do xiaomi mi9t com a gcam e a nova...</td>\n",
       "      <td>1</td>\n",
       "    </tr>\n",
       "    <tr>\n",
       "      <th>165</th>\n",
       "      <td>0</td>\n",
       "      <td>eu quelo httpstcopmawpxygwn</td>\n",
       "      <td>1</td>\n",
       "    </tr>\n",
       "    <tr>\n",
       "      <th>166</th>\n",
       "      <td>1</td>\n",
       "      <td>xiaomi vc é perfeito obrigada</td>\n",
       "      <td>0</td>\n",
       "    </tr>\n",
       "    <tr>\n",
       "      <th>167</th>\n",
       "      <td>1</td>\n",
       "      <td>enfim comprei meu xiaomi kk</td>\n",
       "      <td>1</td>\n",
       "    </tr>\n",
       "    <tr>\n",
       "      <th>168</th>\n",
       "      <td>0</td>\n",
       "      <td>xiaomi não acredito</td>\n",
       "      <td>0</td>\n",
       "    </tr>\n",
       "    <tr>\n",
       "      <th>169</th>\n",
       "      <td>0</td>\n",
       "      <td>mahludmarco quem precisa de tv se a xiaomi col...</td>\n",
       "      <td>1</td>\n",
       "    </tr>\n",
       "    <tr>\n",
       "      <th>170</th>\n",
       "      <td>0</td>\n",
       "      <td>tô em dúvida se compro um tablet da samsung da...</td>\n",
       "      <td>1</td>\n",
       "    </tr>\n",
       "    <tr>\n",
       "      <th>171</th>\n",
       "      <td>0</td>\n",
       "      <td>danielsdesu se seu celular fosse um xiaomi voc...</td>\n",
       "      <td>1</td>\n",
       "    </tr>\n",
       "    <tr>\n",
       "      <th>172</th>\n",
       "      <td>1</td>\n",
       "      <td>q sonho horrível sonhei q tinha um xiaomi</td>\n",
       "      <td>0</td>\n",
       "    </tr>\n",
       "    <tr>\n",
       "      <th>173</th>\n",
       "      <td>0</td>\n",
       "      <td>original fone de ouvido tws sem fio bluetooth ...</td>\n",
       "      <td>0</td>\n",
       "    </tr>\n",
       "    <tr>\n",
       "      <th>174</th>\n",
       "      <td>0</td>\n",
       "      <td>cupom smartphones xiaomi mi 9  red note 8  mar...</td>\n",
       "      <td>0</td>\n",
       "    </tr>\n",
       "  </tbody>\n",
       "</table>\n",
       "<p>175 rows × 3 columns</p>\n",
       "</div>"
      ],
      "text/plain": [
       "     Relevancia                                              Teste  \\\n",
       "0             0  preciso achar alguém que venda capinha de celu...   \n",
       "1             0  tessaro2000 xiaomi é brabo ja bem com coringa ...   \n",
       "2             1  rt canaltech moto elétrica da xiaomi chega a 1...   \n",
       "3             1  rt lluscas que raiva da marcela trocou um ipho...   \n",
       "4             1  eu sou mt influencer geral na sala usando o fo...   \n",
       "5             0  matheusneivaa nubank um novo xiaomi como bela ...   \n",
       "6             0  rt redetv mãe diz que filho foi morto por tran...   \n",
       "7             0                          xiaomi é o krlh morô cara   \n",
       "8             0                        betteraba comprou um xiaomi   \n",
       "9             0  roubou o cargo do chenle ceo da xiaomi agora o...   \n",
       "10            0  preenchendo meu vazio existencial de n ter um ...   \n",
       "11            0                             joseserra velho safado   \n",
       "12            0  minixmirian só não vale pra quem trabalha com ...   \n",
       "13            0  xiaomi redmi note 9 pro tem possíveis especifi...   \n",
       "14            0  galerinha alguém afim de comprar um xiaomi red...   \n",
       "15            0  cupom smartphones xiaomi mi 9  red note 8  mar...   \n",
       "16            0  essa matéria faria ainda mais sentido se fosse...   \n",
       "17            1  batprugol canon t5i e tenho um xiaomi mi9 que ...   \n",
       "18            0      rt lhcvsx se escreve xiaomi mas se lê zyæœmåy   \n",
       "19            1         sim eu vou comprar uma choppeira da xiaomi   \n",
       "20            0  ovnimoura manipulado as propagandas que aparec...   \n",
       "21            1  tem uma galera por aí perdendo o celular depoi...   \n",
       "22            0  rt pompeukk convenci mais um samsunguer a comp...   \n",
       "23            0  as melhores máquinas de cartão de crédito\\n\\nh...   \n",
       "24            1  rt paulogala moto elétrica da xiaomi chega a 1...   \n",
       "25            0  amariagabe obrigadaaaa agora eu sou testemunha...   \n",
       "26            0  agr que desistir de vez do xiaomi preciso me d...   \n",
       "27            0  sinaeffects xiaomi minha experiência com iphon...   \n",
       "28            1   xiaomi bota apple pra mamar gostoso não tem como   \n",
       "29            0  laraacarvalho a xiaomi deve me patrocinar pq e...   \n",
       "..          ...                                                ...   \n",
       "145           0  tv xiaomi 55 4k uhd a preciazo o httpstco9azyk...   \n",
       "146           1  jcotta31 mano sem ser na zoeira o software da ...   \n",
       "147           0  xiaomi nunca te pedi nada lança  logo a star c...   \n",
       "148           1  minha melhor aquisição do ano passado definiti...   \n",
       "149           0                         serasi eu compro um xiaomi   \n",
       "150           1  acejaems xiaomer tem o melhor custo benefício ...   \n",
       "151           0  jeffjd eh ruim hein trabalhar pra comprar um x...   \n",
       "152           0  a actualização v11020qdlmixm integra ainda o m...   \n",
       "153           1                       xiaomi airdots é muito brabo   \n",
       "154           0  power bank 10000mah qc30 xiaomi 2i plm09zm ban...   \n",
       "155           0  mas entre câmeras dessa faixa de valor bem lon...   \n",
       "156           1  eu gosto de gente assim que escolhe xiaomi e t...   \n",
       "157           0  rt daudts2 alguém sabe se vale a pena comprar ...   \n",
       "158           1  todo dia descobro algo novo nesse celular por ...   \n",
       "159           0  rt hatakebjj vai me sobrar uma grana e não sei...   \n",
       "160           1  xiaomi e otimo  mais nao me adaptei  voltei pr...   \n",
       "161           0  ok xiaomi me devolve meu mi a2 lite\\nmia2litea...   \n",
       "162           0  precisamos chegar a 500 tweets mas tem só 480 ...   \n",
       "163           0  savcavalcante provavelmente vai ter q esperar ...   \n",
       "164           0  foto tirada do xiaomi mi9t com a gcam e a nova...   \n",
       "165           0                        eu quelo httpstcopmawpxygwn   \n",
       "166           1                      xiaomi vc é perfeito obrigada   \n",
       "167           1                        enfim comprei meu xiaomi kk   \n",
       "168           0                                xiaomi não acredito   \n",
       "169           0  mahludmarco quem precisa de tv se a xiaomi col...   \n",
       "170           0  tô em dúvida se compro um tablet da samsung da...   \n",
       "171           0  danielsdesu se seu celular fosse um xiaomi voc...   \n",
       "172           1          q sonho horrível sonhei q tinha um xiaomi   \n",
       "173           0  original fone de ouvido tws sem fio bluetooth ...   \n",
       "174           0  cupom smartphones xiaomi mi 9  red note 8  mar...   \n",
       "\n",
       "     test_result  \n",
       "0              0  \n",
       "1              1  \n",
       "2              0  \n",
       "3              0  \n",
       "4              1  \n",
       "5              1  \n",
       "6              0  \n",
       "7              0  \n",
       "8              1  \n",
       "9              1  \n",
       "10             1  \n",
       "11             1  \n",
       "12             0  \n",
       "13             0  \n",
       "14             0  \n",
       "15             0  \n",
       "16             1  \n",
       "17             1  \n",
       "18             0  \n",
       "19             1  \n",
       "20             1  \n",
       "21             1  \n",
       "22             1  \n",
       "23             0  \n",
       "24             0  \n",
       "25             0  \n",
       "26             1  \n",
       "27             1  \n",
       "28             1  \n",
       "29             0  \n",
       "..           ...  \n",
       "145            0  \n",
       "146            1  \n",
       "147            1  \n",
       "148            1  \n",
       "149            1  \n",
       "150            0  \n",
       "151            0  \n",
       "152            0  \n",
       "153            1  \n",
       "154            0  \n",
       "155            0  \n",
       "156            1  \n",
       "157            0  \n",
       "158            0  \n",
       "159            0  \n",
       "160            1  \n",
       "161            1  \n",
       "162            0  \n",
       "163            0  \n",
       "164            1  \n",
       "165            1  \n",
       "166            0  \n",
       "167            1  \n",
       "168            0  \n",
       "169            1  \n",
       "170            1  \n",
       "171            1  \n",
       "172            0  \n",
       "173            0  \n",
       "174            0  \n",
       "\n",
       "[175 rows x 3 columns]"
      ]
     },
     "execution_count": 15,
     "metadata": {},
     "output_type": "execute_result"
    }
   ],
   "source": [
    "Classifier(df2)"
   ]
  },
  {
   "cell_type": "markdown",
   "metadata": {},
   "source": [
    "#### 6.2 Análise de eficiência"
   ]
  },
  {
   "cell_type": "code",
   "execution_count": 16,
   "metadata": {
    "scrolled": true
   },
   "outputs": [
    {
     "name": "stdout",
     "output_type": "stream",
     "text": [
      "Verdadeiros_positivos = 36\n",
      "Verdadeiros_negativos = 61\n",
      "Falsos_positivos = 56\n",
      "Falsos_negativos = 22\n",
      "Porcentagem de acertos = 55.42857142857143\n",
      "Porcentagem de erros = 44.57142857142857\n"
     ]
    }
   ],
   "source": [
    "verdadeiros_positivos = 0\n",
    "verdadeiros_negativos = 0\n",
    "falsos_positivos = 0\n",
    "falsos_negativos = 0\n",
    "\n",
    "for y in df2_range:\n",
    "    if (df2.iloc[y, 0] == 1) & (df2.iloc[y, 2] == 1):\n",
    "        verdadeiros_positivos +=1\n",
    "        \n",
    "    elif (df2.iloc[y, 0] == 0) & (df2.iloc[y, 2] == 0):\n",
    "        verdadeiros_negativos +=1\n",
    "    \n",
    "    elif (df2.iloc[y, 0] == 0) & (df2.iloc[y, 2] == 1):\n",
    "        falsos_positivos +=1\n",
    "        \n",
    "    else:\n",
    "        falsos_negativos +=1\n",
    "        \n",
    "print('Verdadeiros_positivos = {0}'.format(verdadeiros_positivos))\n",
    "print('Verdadeiros_negativos = {0}'.format(verdadeiros_negativos))\n",
    "print('Falsos_positivos = {0}'.format(falsos_positivos))\n",
    "print('Falsos_negativos = {0}'.format(falsos_negativos))\n",
    "\n",
    "print('Porcentagem de acertos = {0}'.format((verdadeiros_positivos + verdadeiros_negativos)*100 / len(df2_range)))\n",
    "print('Porcentagem de erros = {0}'.format((falsos_positivos + falsos_negativos)*100 / len(df2_range)))"
   ]
  },
  {
   "cell_type": "markdown",
   "metadata": {},
   "source": [
    "___\n",
    "### 8. Conclusão "
   ]
  },
  {
   "cell_type": "markdown",
   "metadata": {},
   "source": [
    "A performance do classificador foi abaixo da esperada, obtendo percentual de acertos de aproximadamente 55 %, sendo o número de falsos positivos maior do que o dobro de falsos negativos. Existem diversos fatores que podem influenciar os resultados, nesse caso, várias melhorias podem ser feitas, entre elas:\n",
    "\n",
    "\n",
    "- Agrupamento de palávras por critérios de morfologia e sintáse, ou seja, por similaridades entre fuções das palavras dentro da frase, uma vez que classificadores Naive Bayes não consideram a relação entre as palavras. Essa melhoria seria muito significativa se aplicada ao banco de dados antes da função Classifier e caso houvesse uma classiificação posterior de \"comentários positivos\" e \"comentários negativos\" seria ainda mais relevante. [Introduction to Syntax Analysis in Compiler Design](https://www.geeksforgeeks.org/introduction-to-syntax-analysis-in-compiler-design/). , [Types of Parsers in Compiler Design](https://www.geeksforgeeks.org/types-of-parsers-in-compiler-design/?ref=rp)\n",
    "\n",
    "- Incorporação de análise de significados de emojis, o que poderia ser feito pela substituição dos emojis por uma ou mais palavras que represetassem seu significado. Essa melhoria no classificador seria mais relevante se fosse aplicada apenas no grupo de comnetários relevantes, ou seja, em uma função após a função Classifier.  [Emoticon and Emoji in Text Mining](https://medium.com/towards-artificial-intelligence/emoticon-and-emoji-in-text-mining-7392c49f596a)\n",
    "\n",
    "- Um refinamento maior na análise das palavras individualmente, como diferenciação entre siglas e palavras comuns.\n",
    "\n",
    "- Incorporação de análise de imagens e gifs seguindo o mesmo princípio da interpretação de emojis, ou seja, substituir imagens por algumas palvras que remetam a uma ação ou sentimento e tambem aplicada no grupo de comentários relevantes. [Image Data Analysis Using Python](https://towardsdatascience.com/image-data-analysis-using-python-edddfdf128f4). , [Basic Image Data Analysis Using Python: Part 1](https://dzone.com/articles/image-data-analysis-using-numpy-amp-opencv)."
   ]
  },
  {
   "cell_type": "markdown",
   "metadata": {},
   "source": [
    "Embora o desempenho do classificador não tenha sido satisfatório, esse tipo de projeto tem um grande potencial para a otimização de pessoas e recursos em departamentos de análise de aceitação de produtos. Com as devidas melhorias esse classificador pode se tornar uma ferramenta indispensável dentro de uma empresa, proporcionando um meio de comunicação entre os desenvolvedores e os usuários de determinados produtos."
   ]
  },
  {
   "cell_type": "markdown",
   "metadata": {},
   "source": [
    "Esse classificador não é capaz de identificar frases com indicios de sarcasmo ou dupla negação, dessa maneira são interpretadas com qualquer outra frase, tendo cada uma de suas palavras analisadas individualmente em relação ao banco de dados. Um atributo de classificação que fizesse esse tipo de distinção seria muito conveniente visto que duplas negações e até mesmo sarcasmo são relativamente recorrentes, principalmente a língua portuguesa ."
   ]
  },
  {
   "cell_type": "markdown",
   "metadata": {},
   "source": [
    "A realimentação automática da base de treinamento realizada pelo próprio classificador não deve ser feita pois os erros do classificador seriam propagados, gerando um banco de dados cada vez mais impreciso. \n",
    "Com um banco de dados estático, ou seja, sem ser alterado pelo próprio classificador, cada informação que passa pelo processo de classificação tem suas probabilidades calculadas com base em um mesmo padrão (banco de dados composto por informações selecionadas manualmente). Caso contrário, as probabilidades seriam calculadas com base em informações que eventualmente carregariam erros do classificador, propagando esses erros."
   ]
  },
  {
   "cell_type": "markdown",
   "metadata": {},
   "source": [
    "Outros cenários em que esse tipo de classificador por regressão linear teria aplicação são: diagnóstico de doenças ou anomalias médicas, diagnóstico de distúrbios mentais, como depressão, previsão de sucesso de empresas entre outras aplicações. Além disso, pela sua alta velocidade de processamento, para classificações em tempo real seu uso é especialmente conveniente."
   ]
  },
  {
   "cell_type": "markdown",
   "metadata": {},
   "source": [
    "___\n",
    "### 9. Referências"
   ]
  },
  {
   "cell_type": "markdown",
   "metadata": {},
   "source": [
    "[Naive Bayes and Text Classification](https://arxiv.org/pdf/1410.5329.pdf)  \n",
    "\n",
    "[A practical explanation of a Naive Bayes Classifier](https://monkeylearn.com/blog/practical-explanation-naive-bayes-classifier/) \n",
    "\n",
    "[Applying Multinomial Naive Bayes to NLP Problems: A Practical Explanation](https://medium.com/syncedreview/applying-multinomial-naive-bayes-to-nlp-problems-a-practical-explanation-4f5271768ebf)"
   ]
  },
  {
   "cell_type": "code",
   "execution_count": null,
   "metadata": {},
   "outputs": [],
   "source": []
  },
  {
   "cell_type": "code",
   "execution_count": null,
   "metadata": {},
   "outputs": [],
   "source": []
  }
 ],
 "metadata": {
  "kernelspec": {
   "display_name": "Python 3",
   "language": "python",
   "name": "python3"
  },
  "language_info": {
   "codemirror_mode": {
    "name": "ipython",
    "version": 3
   },
   "file_extension": ".py",
   "mimetype": "text/x-python",
   "name": "python",
   "nbconvert_exporter": "python",
   "pygments_lexer": "ipython3",
   "version": "3.7.3"
  }
 },
 "nbformat": 4,
 "nbformat_minor": 4
}
