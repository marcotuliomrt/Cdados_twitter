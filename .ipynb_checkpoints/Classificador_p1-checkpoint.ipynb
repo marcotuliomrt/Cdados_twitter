{
 "cells": [
  {
   "cell_type": "markdown",
   "metadata": {},
   "source": [
    "# Projeto 1 - Ciência dos Dados"
   ]
  },
  {
   "cell_type": "markdown",
   "metadata": {},
   "source": [
    "Nome: _Marco Tulio Masselli Rainho Teixeira_\n",
    "\n",
    "Nome: _Talissa Gonçalves Albertini_"
   ]
  },
  {
   "cell_type": "markdown",
   "metadata": {},
   "source": [
    "___\n",
    "## Classificador automático de sentimento\n"
   ]
  },
  {
   "cell_type": "markdown",
   "metadata": {},
   "source": [
    "Este classificador automático de sentimento tem o objetivo de promover uma otimização no processo de interpretação de feed back de qualquer produto no mercado, identificando características que os usuários aprovam ou reprovam, e no ambiente do Twitter, selecionando comentários que tenham uma maior probabilidade de serem relevantes à equipe que os analizará."
   ]
  },
  {
   "cell_type": "markdown",
   "metadata": {},
   "source": [
    "### 1. Preparação do ambiente do Jupyter"
   ]
  },
  {
   "cell_type": "code",
   "execution_count": 1,
   "metadata": {},
   "outputs": [
    {
     "name": "stderr",
     "output_type": "stream",
     "text": [
      "[nltk_data] Downloading package rslp to C:\\Users\\Marco\n",
      "[nltk_data]     Tulio\\AppData\\Roaming\\nltk_data...\n",
      "[nltk_data]   Package rslp is already up-to-date!\n"
     ]
    },
    {
     "data": {
      "text/plain": [
       "True"
      ]
     },
     "execution_count": 1,
     "metadata": {},
     "output_type": "execute_result"
    }
   ],
   "source": [
    "%matplotlib inline\n",
    "import pandas as pd\n",
    "import matplotlib.pyplot as plt\n",
    "import numpy as np\n",
    "import os\n",
    "import re \n",
    "from string import punctuation\n",
    "import nltk \n",
    "from nltk.stem import RSLPStemmer\n",
    "nltk.download('rslp')"
   ]
  },
  {
   "cell_type": "code",
   "execution_count": null,
   "metadata": {},
   "outputs": [],
   "source": [
    "print('Esperamos trabalhar no diretório')\n",
    "print(os.getcwd())"
   ]
  },
  {
   "cell_type": "markdown",
   "metadata": {},
   "source": [
    "### 2. Carregando a base de dados com os tweets "
   ]
  },
  {
   "cell_type": "code",
   "execution_count": 23,
   "metadata": {},
   "outputs": [
    {
     "name": "stdout",
     "output_type": "stream",
     "text": [
      "   Relevancia                                        Treinamento\n",
      "0           0  @assig93 você tem o smartwatch da xiaomi??? o ...\n",
      "1           1  rt @camillinhasr: to quase trocando meu iphone...\n",
      "2           0  @matxsans @clicker82806245 @caiorodrigonas1 @s...\n",
      "3           1  galera do xiaomi mi a3 garena acabou de atuali...\n",
      "4           1  @dustoccox @xiaomi ta bugado? o meu nem chegou...\n",
      "   Relevancia                                              Teste\n",
      "0           0  preciso achar alguém que venda capinha de celu...\n",
      "1           0  @tessaro2000 xiaomi é brabo ja bem com coringa...\n",
      "2           1  rt @canaltech: moto elétrica da xiaomi chega a...\n",
      "3           1  rt @_lluscas: que raiva da marcela, trocou um ...\n",
      "4           1  eu sou mt influencer, geral na sala usando o f...\n"
     ]
    }
   ],
   "source": [
    "xls = pd.ExcelFile('xiaomi.xlsx')\n",
    "df1 = pd.read_excel(xls, 'Treinamento')\n",
    "df2 = pd.read_excel(xls, 'Teste')\n",
    "\n",
    "print(df1.head())___\n",
    "### 3. Tratamento do banco de dados de treinamento#### 3.1 Remoção de pontuação e uniformização de minúsculasdef  Cleanup(df, text_column):\n",
    "    df[text_column] = df[text_column].str.lower()\n",
    "    df[text_column] = df[text_column].str.replace(rf'[{punctuation}]', '')\n",
    "    return df\n",
    "\n",
    "print(Cleanup(df1, 'Treinamento').head(10))\n",
    "print(Cleanup(df2, 'Teste').head(10))\n",
    "print(df2.head())"
   ]
  },
  {
   "cell_type": "markdown",
   "metadata": {},
   "source": [
    "___\n",
    "### 3. Tratamento do banco de dados de treinamento"
   ]
  },
  {
   "cell_type": "markdown",
   "metadata": {},
   "source": [
    "#### 3.1 Remoção de pontuação e uniformização de minúsculas"
   ]
  },
  {
   "cell_type": "code",
   "execution_count": 24,
   "metadata": {
    "scrolled": true
   },
   "outputs": [
    {
     "name": "stdout",
     "output_type": "stream",
     "text": [
      "   Relevancia                                        Treinamento\n",
      "0           0  assig93 você tem o smartwatch da xiaomi o que ...\n",
      "1           1  rt camillinhasr to quase trocando meu iphone p...\n",
      "2           0  matxsans clicker82806245 caiorodrigonas1 scipi...\n",
      "3           1  galera do xiaomi mi a3 garena acabou de atuali...\n",
      "4           1  dustoccox xiaomi ta bugado o meu nem chegou a att\n",
      "5           1  depois que  troquei de celular nem vontade de ...\n",
      "6           1  se eu soubesse eu tinha pedido pro ronaldinho ...\n",
      "7           0  liked on youtube a maior dúvida redmi note 8 v...\n",
      "8           0  retrato da minha única amiga xiaomi inface htt...\n",
      "9           0  cupom smartphones xiaomi mi 9  red note 8  mar...\n",
      "   Relevancia                                              Teste\n",
      "0           0  preciso achar alguém que venda capinha de celu...\n",
      "1           0  tessaro2000 xiaomi é brabo ja bem com coringa ...\n",
      "2           1  rt canaltech moto elétrica da xiaomi chega a 1...\n",
      "3           1  rt lluscas que raiva da marcela trocou um ipho...\n",
      "4           1  eu sou mt influencer geral na sala usando o fo...\n",
      "5           0  matheusneivaa nubank um novo xiaomi como bela ...\n",
      "6           0  rt redetv mãe diz que filho foi morto por tran...\n",
      "7           0                          xiaomi é o krlh morô cara\n",
      "8           0                        betteraba comprou um xiaomi\n",
      "9           0  roubou o cargo do chenle ceo da xiaomi agora o...\n"
     ]
    }
   ],
   "source": [
    "def  Cleanup(df, text_column):\n",
    "    df[text_column] = df[text_column].str.lower()\n",
    "    df[text_column] = df[text_column].str.replace(rf'[{punctuation}]', '')\n",
    "    return df\n",
    "\n",
    "print(Cleanup(df1, 'Treinamento').head(10))\n",
    "print(Cleanup(df2, 'Teste').head(10))"
   ]
  },
  {
   "cell_type": "markdown",
   "metadata": {},
   "source": [
    "#### 3.2 Divisão por relevância"
   ]
  },
  {
   "cell_type": "code",
   "execution_count": 25,
   "metadata": {},
   "outputs": [
    {
     "name": "stdout",
     "output_type": "stream",
     "text": [
      "['rt camillinhasr to quase trocando meu iphone por um xiaomi', 'galera do xiaomi mi a3 garena acabou de atualizar as opções de sombras e alto fps 😍😍😍 httpstcowmxnoqictq', 'dustoccox xiaomi ta bugado o meu nem chegou a att', 'depois que  troquei de celular nem vontade de postar history eu tenho não comprem xiaomi', 'se eu soubesse eu tinha pedido pro ronaldinho gaúcho trazer um xiaomi mi 8 pra mim', 'maluco\\n\\nquem usa os mi a da xiaomi e tá esperando android 10 se fudeu lindão\\n\\nsimplesmente todos os android one da xiaomi estão cagados', 'queria trocar meu xiaomi em um iphone 7 ou 8 plus  por que  a câmera do meu no insta e em nenhum app e boa só e boa fora desses apps iphone xiaomi', 'elpphin eu vi que o xiaomi tem uma qualidade mto mto boa também mas também pensei nisso que vc citou em relação ao iphone', 'meu próximo celular ou vai ser xiaomi ou samsung ou pasmem iphone', 'queria tanto um xiaomi 🥺']\n"
     ]
    }
   ],
   "source": [
    "relevant_comments = df1[df1.Relevancia == 1] \n",
    "relevant_comments_column = relevant_comments['Treinamento']\n",
    "relevant_comments_list = relevant_comments_column.values.tolist()\n",
    "print(relevant_comments_list[0:10])\n",
    "\n",
    "irrelevant_comments = df1[df1.Relevancia == 0]\n",
    "irrelevant_comments_column = irrelevant_comments['Treinamento']\n",
    "irrelevant_comments_list = irrelevant_comments_column.values.tolist()\n",
    "#print(irrelevant_comments_list)"
   ]
  },
  {
   "cell_type": "markdown",
   "metadata": {},
   "source": [
    "#### 3.3 Separação de palávras "
   ]
  },
  {
   "cell_type": "code",
   "execution_count": 26,
   "metadata": {},
   "outputs": [
    {
     "name": "stdout",
     "output_type": "stream",
     "text": [
      "['rt', 'camillinhasr', 'to', 'quase', 'trocando', 'meu', 'iphone', 'por', 'um', 'xiaomi', 'galera', 'do', 'xiaomi', 'mi', 'a3', 'garena', 'acabou', 'de', 'atualizar', 'as', 'opções', 'de', 'sombras', 'e', 'alto', 'fps', '😍😍😍', 'httpstcowmxnoqictq', 'dustoccox', 'xiaomi']\n"
     ]
    }
   ],
   "source": [
    "relevant_words_raw = [word for comment in relevant_comments_list for word in comment.split()]\n",
    "print(relevant_words_raw[0:30])\n",
    "\n",
    "irrelevant_words_raw = [word for comment in irrelevant_comments_list for word in comment.split()]\n",
    "#print(irrelevant_words_raw)"
   ]
  },
  {
   "cell_type": "code",
   "execution_count": null,
   "metadata": {},
   "outputs": [],
   "source": []
  },
  {
   "cell_type": "code",
   "execution_count": null,
   "metadata": {},
   "outputs": [],
   "source": []
  }
 ],
 "metadata": {
  "kernelspec": {
   "display_name": "Python 3",
   "language": "python",
   "name": "python3"
  },
  "language_info": {
   "codemirror_mode": {
    "name": "ipython",
    "version": 3
   },
   "file_extension": ".py",
   "mimetype": "text/x-python",
   "name": "python",
   "nbconvert_exporter": "python",
   "pygments_lexer": "ipython3",
   "version": "3.7.3"
  }
 },
 "nbformat": 4,
 "nbformat_minor": 2
}
